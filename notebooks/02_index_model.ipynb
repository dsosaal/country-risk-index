{
 "cells": [
  {
   "cell_type": "markdown",
   "id": "3c293a0f",
   "metadata": {},
   "source": [
    "## Importación de librerías y carga de datos"
   ]
  },
  {
   "cell_type": "code",
   "execution_count": 1,
   "id": "950d2a3a",
   "metadata": {},
   "outputs": [
    {
     "data": {
      "text/html": [
       "<div>\n",
       "<style scoped>\n",
       "    .dataframe tbody tr th:only-of-type {\n",
       "        vertical-align: middle;\n",
       "    }\n",
       "\n",
       "    .dataframe tbody tr th {\n",
       "        vertical-align: top;\n",
       "    }\n",
       "\n",
       "    .dataframe thead th {\n",
       "        text-align: right;\n",
       "    }\n",
       "</style>\n",
       "<table border=\"1\" class=\"dataframe\">\n",
       "  <thead>\n",
       "    <tr style=\"text-align: right;\">\n",
       "      <th></th>\n",
       "      <th>country</th>\n",
       "      <th>indicator</th>\n",
       "      <th>value</th>\n",
       "    </tr>\n",
       "  </thead>\n",
       "  <tbody>\n",
       "    <tr>\n",
       "      <th>0</th>\n",
       "      <td>Brazil</td>\n",
       "      <td>current_account</td>\n",
       "      <td>-2.204252</td>\n",
       "    </tr>\n",
       "    <tr>\n",
       "      <th>1</th>\n",
       "      <td>Brazil</td>\n",
       "      <td>external_debt</td>\n",
       "      <td>32.770340</td>\n",
       "    </tr>\n",
       "    <tr>\n",
       "      <th>2</th>\n",
       "      <td>Brazil</td>\n",
       "      <td>gdp_growth</td>\n",
       "      <td>1.726360</td>\n",
       "    </tr>\n",
       "    <tr>\n",
       "      <th>3</th>\n",
       "      <td>Brazil</td>\n",
       "      <td>inflation</td>\n",
       "      <td>5.824015</td>\n",
       "    </tr>\n",
       "    <tr>\n",
       "      <th>4</th>\n",
       "      <td>Brazil</td>\n",
       "      <td>reserves_months</td>\n",
       "      <td>11.221928</td>\n",
       "    </tr>\n",
       "  </tbody>\n",
       "</table>\n",
       "</div>"
      ],
      "text/plain": [
       "  country        indicator      value\n",
       "0  Brazil  current_account  -2.204252\n",
       "1  Brazil    external_debt  32.770340\n",
       "2  Brazil       gdp_growth   1.726360\n",
       "3  Brazil        inflation   5.824015\n",
       "4  Brazil  reserves_months  11.221928"
      ]
     },
     "execution_count": 1,
     "metadata": {},
     "output_type": "execute_result"
    }
   ],
   "source": [
    "import pandas as pd\n",
    "\n",
    "# Cargar dataset base\n",
    "df_base = pd.read_csv('../data/processed/base_index.csv')\n",
    "df_base.head()\n"
   ]
  },
  {
   "cell_type": "markdown",
   "id": "5e587382",
   "metadata": {},
   "source": [
    "##Asignaciondedireccionderiesgo"
   ]
  },
  {
   "cell_type": "code",
   "execution_count": 2,
   "id": "1ad33e8c",
   "metadata": {},
   "outputs": [],
   "source": [
    "# True = mayor valor implica mayor riesgo\n",
    "risk_direction = {\n",
    "    'inflation': True,\n",
    "    'external_debt': True,\n",
    "    'current_account': False,  # superávit = menos riesgo\n",
    "    'gdp_growth': False,       # más crecimiento = menos riesgo\n",
    "    'reserves_months': False   # más reservas = menos riesgo\n",
    "}\n"
   ]
  },
  {
   "cell_type": "markdown",
   "id": "da176097",
   "metadata": {},
   "source": [
    "##"
   ]
  },
  {
   "cell_type": "code",
   "execution_count": 3,
   "id": "fb2a8590",
   "metadata": {},
   "outputs": [],
   "source": [
    "# Convertir a formato wide\n",
    "df_pivot = df_base.pivot(index='country', columns='indicator', values='value')\n",
    "df_norm = pd.DataFrame(index=df_pivot.index)\n",
    "\n",
    "for col in df_pivot.columns:\n",
    "    col_min, col_max = df_pivot[col].min(), df_pivot[col].max()\n",
    "    if risk_direction[col]:\n",
    "        df_norm[col] = (df_pivot[col] - col_min) / (col_max - col_min)\n",
    "    else:\n",
    "        df_norm[col] = (col_max - df_pivot[col]) / (col_max - col_min)\n"
   ]
  },
  {
   "cell_type": "code",
   "execution_count": 4,
   "id": "5faacf9d",
   "metadata": {},
   "outputs": [
    {
     "data": {
      "text/plain": [
       "{'current_account': 0.2,\n",
       " 'external_debt': 0.2,\n",
       " 'gdp_growth': 0.2,\n",
       " 'inflation': 0.2,\n",
       " 'reserves_months': 0.2}"
      ]
     },
     "execution_count": 4,
     "metadata": {},
     "output_type": "execute_result"
    }
   ],
   "source": [
    "weights = {\n",
    "    col: 1 / len(df_norm.columns) for col in df_norm.columns\n",
    "}\n",
    "weights\n"
   ]
  },
  {
   "cell_type": "code",
   "execution_count": 5,
   "id": "9fe1455c",
   "metadata": {},
   "outputs": [
    {
     "data": {
      "text/html": [
       "<div>\n",
       "<style scoped>\n",
       "    .dataframe tbody tr th:only-of-type {\n",
       "        vertical-align: middle;\n",
       "    }\n",
       "\n",
       "    .dataframe tbody tr th {\n",
       "        vertical-align: top;\n",
       "    }\n",
       "\n",
       "    .dataframe thead th {\n",
       "        text-align: right;\n",
       "    }\n",
       "</style>\n",
       "<table border=\"1\" class=\"dataframe\">\n",
       "  <thead>\n",
       "    <tr style=\"text-align: right;\">\n",
       "      <th></th>\n",
       "      <th>country</th>\n",
       "      <th>risk_score</th>\n",
       "    </tr>\n",
       "  </thead>\n",
       "  <tbody>\n",
       "    <tr>\n",
       "      <th>0</th>\n",
       "      <td>Brazil</td>\n",
       "      <td>39.038559</td>\n",
       "    </tr>\n",
       "    <tr>\n",
       "      <th>1</th>\n",
       "      <td>Colombia</td>\n",
       "      <td>70.420854</td>\n",
       "    </tr>\n",
       "    <tr>\n",
       "      <th>2</th>\n",
       "      <td>Mexico</td>\n",
       "      <td>59.358124</td>\n",
       "    </tr>\n",
       "    <tr>\n",
       "      <th>3</th>\n",
       "      <td>Peru</td>\n",
       "      <td>23.164129</td>\n",
       "    </tr>\n",
       "  </tbody>\n",
       "</table>\n",
       "</div>"
      ],
      "text/plain": [
       "    country  risk_score\n",
       "0    Brazil   39.038559\n",
       "1  Colombia   70.420854\n",
       "2    Mexico   59.358124\n",
       "3      Peru   23.164129"
      ]
     },
     "execution_count": 5,
     "metadata": {},
     "output_type": "execute_result"
    }
   ],
   "source": [
    "# Ponderación de cada columna\n",
    "df_norm['risk_score'] = sum(df_norm[col] * weight for col, weight in weights.items())\n",
    "df_norm['risk_score'] = df_norm['risk_score'] * 100  # escalar a 0-100\n",
    "df_norm = df_norm.reset_index()\n",
    "df_norm[['country', 'risk_score']]\n"
   ]
  },
  {
   "cell_type": "code",
   "execution_count": 6,
   "id": "037ad499",
   "metadata": {},
   "outputs": [
    {
     "name": "stdout",
     "output_type": "stream",
     "text": [
      "✅ Índice de riesgo guardado en country_risk_score.csv\n"
     ]
    }
   ],
   "source": [
    "df_norm[['country', 'risk_score']].to_csv('../data/processed/country_risk_score.csv', index=False)\n",
    "print(\"✅ Índice de riesgo guardado en country_risk_score.csv\")\n"
   ]
  },
  {
   "cell_type": "code",
   "execution_count": null,
   "id": "e9a70d0f",
   "metadata": {},
   "outputs": [],
   "source": []
  }
 ],
 "metadata": {
  "kernelspec": {
   "display_name": "Python 3",
   "language": "python",
   "name": "python3"
  },
  "language_info": {
   "codemirror_mode": {
    "name": "ipython",
    "version": 3
   },
   "file_extension": ".py",
   "mimetype": "text/x-python",
   "name": "python",
   "nbconvert_exporter": "python",
   "pygments_lexer": "ipython3",
   "version": "3.8.10"
  }
 },
 "nbformat": 4,
 "nbformat_minor": 5
}
